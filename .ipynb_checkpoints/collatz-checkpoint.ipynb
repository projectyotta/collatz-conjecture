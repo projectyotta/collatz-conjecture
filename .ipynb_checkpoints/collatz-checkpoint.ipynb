{
 "cells": [
  {
   "cell_type": "code",
   "execution_count": 224,
   "metadata": {},
   "outputs": [],
   "source": [
    "import pandas as pd \n",
    "import time\n",
    "!pip install opencv-python\n",
    "def get_raw_nums(n):\n",
    "    nums = []\n",
    "    nums.append(n)\n",
    "    while n > 1:\n",
    "        if n % 2 == 0 :\n",
    "            n = n//2\n",
    "            nums.append(n)\n",
    "        else:\n",
    "            n = 3*n+1\n",
    "            nums.append(n)\n",
    "    return nums\n",
    "\n",
    "def get_tuples(nums):\n",
    "    a = []\n",
    "    for i in range(1, len(nums)):\n",
    "        a.append((nums[i-1],nums[i]))\n",
    "    return a "
   ]
  },
  {
   "cell_type": "code",
   "execution_count": null,
   "metadata": {},
   "outputs": [],
   "source": []
  },
  {
   "cell_type": "code",
   "execution_count": 225,
   "metadata": {},
   "outputs": [
    {
     "name": "stdout",
     "output_type": "stream",
     "text": [
      "26033\n",
      "59431\n",
      "95661\n",
      "133988\n",
      "174737\n",
      "215015\n",
      "257544\n",
      "299162\n",
      "342849\n",
      "387940\n",
      "430398\n",
      "475667\n",
      "521237\n",
      "568046\n",
      "614468\n"
     ]
    }
   ],
   "source": [
    "totals = [500,1000,1500,2000,2500,3000,3500,4000,4500,5000,5500,6000,6500,7000,7500]\n",
    "\n",
    "for m in range(0,len(totals)):\n",
    "\n",
    "    max_size = 100\n",
    "    total = totals[m]\n",
    "    l = list(range(total))\n",
    "    l1 = [l[i*max_size: (i+1)*max_size] for i in range(total)]\n",
    "\n",
    "    df_list = []\n",
    "\n",
    "    for item in l1:\n",
    "        y = []\n",
    "        for items in item:\n",
    "            y.extend(get_tuples(get_raw_nums(items)))\n",
    "        df = pd.DataFrame.from_records(y, columns =['source', 'target']).reset_index(drop=True)\n",
    "        df_list.append(df)\n",
    "    #     df.to_csv(str(time.time()).replace('.','_') + '.csv', index=False)\n",
    "\n",
    "    # output df to CSV - might also want to combine the dataframes into a single one if it makes sense \\\n",
    "\n",
    "    import glob\n",
    "    combined_csv = pd.concat(df_list)\n",
    "    # combined_csv = pd.concat([pd.read_csv(f) for f in glob.glob('*.csv')])\n",
    "    print(len(combined_csv))\n",
    "    # combined_csv = combined_csv.drop_duplicates(keep=False)\n",
    "    # print(len(combined_csv))\n",
    "\n",
    "    # import os \n",
    "    # [os.remove(item) for item in glob.glob('*.csv')]\n",
    "\n",
    "    # combined_csv = combined_csv.drop_duplicates(keep=False, inplace=True)\n",
    "    # combined_csv.to_csv('final_100k.csv',index=False)\n",
    "\n",
    "\n",
    "    # !pip install treelib\n",
    "    # !pip install anytree\n",
    "    combined_csv = combined_csv.reset_index(drop=True)\n",
    "\n",
    "\n",
    "    from treelib import Node, Tree\n",
    "    tree = Tree()\n",
    "    tree.create_node(2,2)\n",
    "\n",
    "    for i in range(0,len(combined_csv)):\n",
    "        try:\n",
    "            tree.create_node(combined_csv['source'][i],combined_csv['source'][i],parent=combined_csv['target'][i] )\n",
    "        except Exception as ex:\n",
    "            pass\n",
    "    tree.to_graphviz(str(totals[m])+'.gv')\n",
    "\n"
   ]
  },
  {
   "cell_type": "code",
   "execution_count": null,
   "metadata": {},
   "outputs": [],
   "source": [
    "# add the following attributes to all gv files - use sublime replace all in folder for now . \n",
    "# has to be a programmatic way to do it, but eh whatever works for now \n",
    "# graph level \n",
    "# digraph tree {\n",
    "# \tratio=\"fill\";\n",
    "#  \tsize=\"100,130!\";\n",
    "#  \tbgcolor=\"white\";\n",
    "#  \tcenter=true;\n",
    "#  \tconcentrate=true;\n",
    "#  \trotate=180;\n",
    "#  \tk=12;\n",
    "\n",
    "# node level \n",
    "# \"104\" [label=\"104\", shape=square]\n",
    "\n",
    "# edge level \n",
    "# [penwidth=8]\n",
    "    "
   ]
  },
  {
   "cell_type": "code",
   "execution_count": 226,
   "metadata": {},
   "outputs": [
    {
     "name": "stdout",
     "output_type": "stream",
     "text": [
      "!\"C:\\Program Files (x86)\\Graphviz2.38\\bin\\dot.exe\" 500.gv -Tpng -o 500.jpeg\n",
      "!\"C:\\Program Files (x86)\\Graphviz2.38\\bin\\dot.exe\" 1000.gv -Tpng -o 1000.jpeg\n",
      "!\"C:\\Program Files (x86)\\Graphviz2.38\\bin\\dot.exe\" 1500.gv -Tpng -o 1500.jpeg\n",
      "!\"C:\\Program Files (x86)\\Graphviz2.38\\bin\\dot.exe\" 2000.gv -Tpng -o 2000.jpeg\n",
      "!\"C:\\Program Files (x86)\\Graphviz2.38\\bin\\dot.exe\" 2500.gv -Tpng -o 2500.jpeg\n",
      "!\"C:\\Program Files (x86)\\Graphviz2.38\\bin\\dot.exe\" 3000.gv -Tpng -o 3000.jpeg\n",
      "!\"C:\\Program Files (x86)\\Graphviz2.38\\bin\\dot.exe\" 3500.gv -Tpng -o 3500.jpeg\n",
      "!\"C:\\Program Files (x86)\\Graphviz2.38\\bin\\dot.exe\" 4000.gv -Tpng -o 4000.jpeg\n",
      "!\"C:\\Program Files (x86)\\Graphviz2.38\\bin\\dot.exe\" 4500.gv -Tpng -o 4500.jpeg\n",
      "!\"C:\\Program Files (x86)\\Graphviz2.38\\bin\\dot.exe\" 5000.gv -Tpng -o 5000.jpeg\n",
      "!\"C:\\Program Files (x86)\\Graphviz2.38\\bin\\dot.exe\" 5500.gv -Tpng -o 5500.jpeg\n",
      "!\"C:\\Program Files (x86)\\Graphviz2.38\\bin\\dot.exe\" 6000.gv -Tpng -o 6000.jpeg\n",
      "!\"C:\\Program Files (x86)\\Graphviz2.38\\bin\\dot.exe\" 6500.gv -Tpng -o 6500.jpeg\n",
      "!\"C:\\Program Files (x86)\\Graphviz2.38\\bin\\dot.exe\" 7000.gv -Tpng -o 7000.jpeg\n",
      "!\"C:\\Program Files (x86)\\Graphviz2.38\\bin\\dot.exe\" 7500.gv -Tpng -o 7500.jpeg\n"
     ]
    }
   ],
   "source": [
    "for m in range(0,len(totals)):\n",
    "    print('!\"' +   \"C:\\\\Program Files (x86)\\\\Graphviz2.38\\\\bin\\\\dot.exe\" + '\" ' + str(totals[m])+'.gv'+' -Tpng -o '+str(totals[m])+'.jpeg')\n"
   ]
  },
  {
   "cell_type": "code",
   "execution_count": 227,
   "metadata": {},
   "outputs": [
    {
     "name": "stderr",
     "output_type": "stream",
     "text": [
      "The system cannot find the path specified.\n",
      "The system cannot find the path specified.\n",
      "The system cannot find the path specified.\n",
      "The system cannot find the path specified.\n",
      "The system cannot find the path specified.\n",
      "The system cannot find the path specified.\n",
      "The system cannot find the path specified.\n",
      "The system cannot find the path specified.\n",
      "The system cannot find the path specified.\n",
      "The system cannot find the path specified.\n",
      "The system cannot find the path specified.\n",
      "The system cannot find the path specified.\n",
      "The system cannot find the path specified.\n",
      "The system cannot find the path specified.\n",
      "The system cannot find the path specified.\n"
     ]
    }
   ],
   "source": [
    "!\"C:\\Program Files (x86)\\Graphviz2.38\\bin\\dot.exe\" 500.gv -Tpng -o 500.jpeg\n",
    "!\"C:\\Program Files (x86)\\Graphviz2.38\\bin\\dot.exe\" 1000.gv -Tpng -o 1000.jpeg\n",
    "!\"C:\\Program Files (x86)\\Graphviz2.38\\bin\\dot.exe\" 1500.gv -Tpng -o 1500.jpeg\n",
    "!\"C:\\Program Files (x86)\\Graphviz2.38\\bin\\dot.exe\" 2000.gv -Tpng -o 2000.jpeg\n",
    "!\"C:\\Program Files (x86)\\Graphviz2.38\\bin\\dot.exe\" 2500.gv -Tpng -o 2500.jpeg\n",
    "!\"C:\\Program Files (x86)\\Graphviz2.38\\bin\\dot.exe\" 3000.gv -Tpng -o 3000.jpeg\n",
    "!\"C:\\Program Files (x86)\\Graphviz2.38\\bin\\dot.exe\" 3500.gv -Tpng -o 3500.jpeg\n",
    "!\"C:\\Program Files (x86)\\Graphviz2.38\\bin\\dot.exe\" 4000.gv -Tpng -o 4000.jpeg\n",
    "!\"C:\\Program Files (x86)\\Graphviz2.38\\bin\\dot.exe\" 4500.gv -Tpng -o 4500.jpeg\n",
    "!\"C:\\Program Files (x86)\\Graphviz2.38\\bin\\dot.exe\" 5000.gv -Tpng -o 5000.jpeg\n",
    "!\"C:\\Program Files (x86)\\Graphviz2.38\\bin\\dot.exe\" 5500.gv -Tpng -o 5500.jpeg\n",
    "!\"C:\\Program Files (x86)\\Graphviz2.38\\bin\\dot.exe\" 6000.gv -Tpng -o 6000.jpeg\n",
    "!\"C:\\Program Files (x86)\\Graphviz2.38\\bin\\dot.exe\" 6500.gv -Tpng -o 6500.jpeg\n",
    "!\"C:\\Program Files (x86)\\Graphviz2.38\\bin\\dot.exe\" 7000.gv -Tpng -o 7000.jpeg\n",
    "!\"C:\\Program Files (x86)\\Graphviz2.38\\bin\\dot.exe\" 7500.gv -Tpng -o 7500.jpeg"
   ]
  },
  {
   "cell_type": "code",
   "execution_count": 228,
   "metadata": {},
   "outputs": [
    {
     "name": "stderr",
     "output_type": "stream",
     "text": [
      "C:\\ProgramData\\Anaconda3\\lib\\site-packages\\PIL\\Image.py:2832: DecompressionBombWarning: Image size (119740800 pixels) exceeds limit of 89478485 pixels, could be decompression bomb DOS attack.\n",
      "  warnings.warn(\n",
      "C:\\ProgramData\\Anaconda3\\lib\\site-packages\\PIL\\Image.py:2832: DecompressionBombWarning: Image size (119760000 pixels) exceeds limit of 89478485 pixels, could be decompression bomb DOS attack.\n",
      "  warnings.warn(\n",
      "C:\\ProgramData\\Anaconda3\\lib\\site-packages\\PIL\\Image.py:2832: DecompressionBombWarning: Image size (119779200 pixels) exceeds limit of 89478485 pixels, could be decompression bomb DOS attack.\n",
      "  warnings.warn(\n",
      "C:\\ProgramData\\Anaconda3\\lib\\site-packages\\PIL\\Image.py:2832: DecompressionBombWarning: Image size (119788800 pixels) exceeds limit of 89478485 pixels, could be decompression bomb DOS attack.\n",
      "  warnings.warn(\n"
     ]
    }
   ],
   "source": [
    "for m in range(0,len(totals)):\n",
    "\n",
    "    # Importing imagechops for using the invert() method\n",
    "    from PIL import Image, ImageChops\n",
    "\n",
    "    # Opening the test image, and saving it's object\n",
    "    img = Image.open(str(totals[m])+'.jpeg')\n",
    "\n",
    "    # Passing the image object to invert()  \n",
    "    inv_img = ImageChops.invert(img)\n",
    "\n",
    "    if inv_img.mode in (\"RGBA\", \"P\"):\n",
    "        inv_img = inv_img.convert(\"RGB\")\n",
    "\n",
    "    inv_img.save(str(totals[m])+'_inverted.jpeg')\n"
   ]
  },
  {
   "cell_type": "code",
   "execution_count": null,
   "metadata": {},
   "outputs": [],
   "source": []
  },
  {
   "cell_type": "code",
   "execution_count": null,
   "metadata": {},
   "outputs": [
    {
     "name": "stdout",
     "output_type": "stream",
     "text": [
      "['1000_inverted.jpeg', '1500_inverted.jpeg', '2000_inverted.jpeg', '2500_inverted.jpeg', '3000_inverted.jpeg', '3500_inverted.jpeg', '4000_inverted.jpeg', '4500_inverted.jpeg', '5000_inverted.jpeg', '500_inverted.jpeg', '5500_inverted.jpeg', '6000_inverted.jpeg', '6500_inverted.jpeg', '7000_inverted.jpeg', '7500_inverted.jpeg']\n"
     ]
    }
   ],
   "source": [
    "import cv2\n",
    "import os\n",
    "\n",
    "image_folder = os.getcwd()\n",
    "video_name = 'video.avi'\n",
    "\n",
    "images = [img for img in os.listdir(image_folder) if img.endswith(\"inverted.jpeg\")]\n",
    "frame = cv2.imread(os.path.join(image_folder, images[0]))\n",
    "height, width, layers = frame.shape\n",
    "print(images)\n",
    "video = cv2.VideoWriter(video_name, 0, 15, (width,height) )\n",
    "\n",
    "for image in images:\n",
    "    for i in range(0,1000):\n",
    "        video.write(cv2.imread(os.path.join(image_folder, image)))\n",
    "    \n",
    "cv2.destroyAllWindows()\n",
    "video.release()"
   ]
  },
  {
   "cell_type": "code",
   "execution_count": null,
   "metadata": {},
   "outputs": [],
   "source": []
  },
  {
   "cell_type": "code",
   "execution_count": null,
   "metadata": {},
   "outputs": [],
   "source": []
  }
 ],
 "metadata": {
  "kernelspec": {
   "display_name": "Python 3",
   "language": "python",
   "name": "python3"
  },
  "language_info": {
   "codemirror_mode": {
    "name": "ipython",
    "version": 3
   },
   "file_extension": ".py",
   "mimetype": "text/x-python",
   "name": "python",
   "nbconvert_exporter": "python",
   "pygments_lexer": "ipython3",
   "version": "3.8.3"
  }
 },
 "nbformat": 4,
 "nbformat_minor": 4
}
